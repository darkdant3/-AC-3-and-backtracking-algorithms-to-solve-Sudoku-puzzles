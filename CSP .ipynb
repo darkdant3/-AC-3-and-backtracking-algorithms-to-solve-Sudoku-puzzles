{
 "cells": [
  {
   "cell_type": "code",
   "execution_count": 34,
   "metadata": {
    "collapsed": false
   },
   "outputs": [],
   "source": [
    "from collections import OrderedDict"
   ]
  },
  {
   "cell_type": "code",
   "execution_count": 45,
   "metadata": {
    "collapsed": true
   },
   "outputs": [],
   "source": [
    "import time"
   ]
  },
  {
   "cell_type": "code",
   "execution_count": 46,
   "metadata": {
    "collapsed": true
   },
   "outputs": [],
   "source": [
    "import sys"
   ]
  },
  {
   "cell_type": "code",
   "execution_count": 2,
   "metadata": {
    "collapsed": true
   },
   "outputs": [],
   "source": [
    "def init_variables():\n",
    "    V = OrderedDict()\n",
    "    for x in range(ord('A'), ord('I')+1):\n",
    "        for i in range(1, 10):\n",
    "            V[chr(x) + str(i)] = 0\n",
    "    return V"
   ]
  },
  {
   "cell_type": "code",
   "execution_count": 6,
   "metadata": {
    "collapsed": true
   },
   "outputs": [],
   "source": [
    "V = init_variables()"
   ]
  },
  {
   "cell_type": "code",
   "execution_count": 2,
   "metadata": {
    "collapsed": false
   },
   "outputs": [
    {
     "data": {
      "text/plain": [
       "(81, 81)"
      ]
     },
     "execution_count": 2,
     "metadata": {},
     "output_type": "execute_result"
    }
   ],
   "source": [
    "len('003020600900305001001806400008102900700000008006708200002609500800203009005010300'),len(V)"
   ]
  },
  {
   "cell_type": "code",
   "execution_count": 33,
   "metadata": {
    "collapsed": false
   },
   "outputs": [
    {
     "name": "stdout",
     "output_type": "stream",
     "text": [
      "A1 0\n",
      "A2 9\n",
      "A3 4\n",
      "A4 0\n",
      "A5 0\n",
      "A6 0\n",
      "A7 1\n",
      "A8 3\n",
      "A9 0\n",
      "B1 0\n",
      "B2 0\n",
      "B3 0\n",
      "B4 0\n",
      "B5 0\n",
      "B6 0\n",
      "B7 0\n",
      "B8 0\n",
      "B9 0\n",
      "C1 0\n",
      "C2 0\n",
      "C3 0\n",
      "C4 0\n",
      "C5 7\n",
      "C6 6\n",
      "C7 0\n",
      "C8 0\n",
      "C9 2\n",
      "D1 0\n",
      "D2 8\n",
      "D3 0\n",
      "D4 0\n",
      "D5 1\n",
      "D6 0\n",
      "D7 0\n",
      "D8 0\n",
      "D9 0\n",
      "E1 0\n",
      "E2 3\n",
      "E3 2\n",
      "E4 0\n",
      "E5 0\n",
      "E6 0\n",
      "E7 0\n",
      "E8 0\n",
      "E9 0\n",
      "F1 0\n",
      "F2 0\n",
      "F3 0\n",
      "F4 2\n",
      "F5 0\n",
      "F6 0\n",
      "F7 0\n",
      "F8 6\n",
      "F9 0\n",
      "G1 0\n",
      "G2 0\n",
      "G3 0\n",
      "G4 0\n",
      "G5 5\n",
      "G6 0\n",
      "G7 4\n",
      "G8 0\n",
      "G9 0\n",
      "H1 0\n",
      "H2 0\n",
      "H3 0\n",
      "H4 0\n",
      "H5 0\n",
      "H6 8\n",
      "H7 0\n",
      "H8 0\n",
      "H9 7\n",
      "I1 0\n",
      "I2 0\n",
      "I3 6\n",
      "I4 3\n",
      "I5 0\n",
      "I6 4\n",
      "I7 0\n",
      "I8 0\n",
      "I9 8\n"
     ]
    }
   ],
   "source": [
    "assigments = '094000130000000000000076002080010000032000000000200060000050400000008007006304008'\n",
    "for i,v in enumerate(V):\n",
    "    print v, assigments[i]\n",
    "    pass"
   ]
  },
  {
   "cell_type": "code",
   "execution_count": 5,
   "metadata": {
    "collapsed": false
   },
   "outputs": [],
   "source": [
    "# variable domain values\n",
    "def init_domains(V):\n",
    "    D = OrderedDict()\n",
    "    for x in V:\n",
    "        D[x] = range(1, 10)\n",
    "    return D\n",
    "#print D"
   ]
  },
  {
   "cell_type": "code",
   "execution_count": 18,
   "metadata": {
    "collapsed": false
   },
   "outputs": [],
   "source": [
    "D = init_domains(V)"
   ]
  },
  {
   "cell_type": "code",
   "execution_count": 22,
   "metadata": {
    "collapsed": false
   },
   "outputs": [],
   "source": [
    "#D"
   ]
  },
  {
   "cell_type": "code",
   "execution_count": 8,
   "metadata": {
    "collapsed": false
   },
   "outputs": [],
   "source": [
    "#assign initial value domains\n",
    "def init_values(V, D, vals):\n",
    "    for i, x in enumerate(V):\n",
    "        if int(vals[i]) != 0:\n",
    "            D[x] = [int(vals[i])]"
   ]
  },
  {
   "cell_type": "code",
   "execution_count": null,
   "metadata": {
    "collapsed": false
   },
   "outputs": [],
   "source": []
  },
  {
   "cell_type": "code",
   "execution_count": 9,
   "metadata": {
    "collapsed": false,
    "scrolled": true
   },
   "outputs": [],
   "source": [
    "#constraints\n",
    "#1. 3x3, row, column must contain values from 1 to 9\n",
    "import numpy as np\n",
    "C1 = {}\n",
    "b = np.array(V.keys())\n",
    "b = b.reshape(9,9)\n",
    "#print b\n",
    "C1 = {}\n",
    "for i in range(3, 12, 3):\n",
    "    #print i,i-3\n",
    "    #print b[i-3:i]\n",
    "    for e in range(3,12,3):\n",
    "        #print e\n",
    "        by_3 = b[i-3:i,e-3:e]\n",
    "        by_3_lst = []\n",
    "        for c in by_3:\n",
    "            by_3_lst.extend(c)\n",
    "        #print by_3_lst\n",
    "        C1['-'.join(by_3_lst)] = range(1,10)\n",
    "#print C1,len(C1)"
   ]
  },
  {
   "cell_type": "code",
   "execution_count": 28,
   "metadata": {
    "collapsed": false
   },
   "outputs": [],
   "source": [
    "#print b"
   ]
  },
  {
   "cell_type": "code",
   "execution_count": 10,
   "metadata": {
    "collapsed": false
   },
   "outputs": [],
   "source": [
    "#row , column constraints\n",
    "C2 = {}\n",
    "C3 = {}\n",
    "for i in range(0,9):\n",
    "    k_row =  '-'.join(b[:, i].tolist())\n",
    "    k_col = '-'.join(b[i, :].tolist())\n",
    "    C2[k_row] = range(1, 10)\n",
    "    C3[k_col] = range(1, 10)"
   ]
  },
  {
   "cell_type": "code",
   "execution_count": 11,
   "metadata": {
    "collapsed": false
   },
   "outputs": [],
   "source": [
    "C = zip(C1,C2,C3)\n",
    "def neighbors(v, C):\n",
    "    ''' v - a variable to find its neighbors'''\n",
    "    #check in 3x3 grid\n",
    "    n_lst = []\n",
    "    for c1, c2,c3 in C:\n",
    "        if v in c1:\n",
    "            c1_lst = c1.split('-')\n",
    "            c1_lst.remove(v)\n",
    "            for c1_ in c1_lst:\n",
    "                if not c1_ in n_lst:\n",
    "                    n_lst.append(c1_)\n",
    "        if v in c2:\n",
    "            c2_lst = c2.split('-')\n",
    "            c2_lst.remove(v)\n",
    "            for c2_ in c2_lst:\n",
    "                if not c2_ in n_lst:\n",
    "                    n_lst.append(c2_)\n",
    "        if v in c3:\n",
    "            c3_lst = c3.split('-')\n",
    "            c3_lst.remove(v)\n",
    "            for c3_ in c3_lst:\n",
    "                if not c3_ in n_lst:\n",
    "                    n_lst.append(c3_)\n",
    "    #print n_lst\n",
    "    return n_lst"
   ]
  },
  {
   "cell_type": "code",
   "execution_count": 12,
   "metadata": {
    "collapsed": false
   },
   "outputs": [],
   "source": [
    "#neighbors('A1',C)"
   ]
  },
  {
   "cell_type": "code",
   "execution_count": 13,
   "metadata": {
    "collapsed": false
   },
   "outputs": [],
   "source": [
    "from copy import deepcopy\n",
    "def revise(X_i, X_j):\n",
    "    revised = False\n",
    "    Dx = deepcopy(D)\n",
    "    #print Dx[X_j] \n",
    "    DX_j = []\n",
    "    for x in Dx[X_i]:\n",
    "         \n",
    "        for y in Dx[X_j]:\n",
    "            if x == y:\n",
    "                #print y\n",
    "                DX_j.append(y) \n",
    "        #print Dx[X_j] , DX_j\n",
    "        if Dx[X_j] == DX_j:\n",
    "            D[X_i].remove(x)\n",
    "            revised = True\n",
    "            #break\n",
    "        #print D[X_i]\n",
    "    return revised"
   ]
  },
  {
   "cell_type": "code",
   "execution_count": 60,
   "metadata": {
    "collapsed": true
   },
   "outputs": [],
   "source": [
    "D['A1'] = [1,2,3]\n",
    "D['A2'] = [1,2,3]"
   ]
  },
  {
   "cell_type": "code",
   "execution_count": 61,
   "metadata": {
    "collapsed": false
   },
   "outputs": [
    {
     "name": "stdout",
     "output_type": "stream",
     "text": [
      "[1, 2, 3] [1]\n",
      "[1, 2, 3] [1, 2]\n",
      "[1, 2, 3] [1, 2, 3]\n"
     ]
    },
    {
     "data": {
      "text/plain": [
       "True"
      ]
     },
     "execution_count": 61,
     "metadata": {},
     "output_type": "execute_result"
    }
   ],
   "source": [
    "revise('A1', 'A2')"
   ]
  },
  {
   "cell_type": "code",
   "execution_count": 314,
   "metadata": {
    "collapsed": false
   },
   "outputs": [
    {
     "data": {
      "text/plain": [
       "([1, 2], [1, 2, 3])"
      ]
     },
     "execution_count": 314,
     "metadata": {},
     "output_type": "execute_result"
    }
   ],
   "source": [
    "D['A1'], D['A2']"
   ]
  },
  {
   "cell_type": "code",
   "execution_count": 14,
   "metadata": {
    "collapsed": false
   },
   "outputs": [],
   "source": [
    "binary_cs = []\n",
    "for c1, c2, c3 in C:\n",
    "    c1_lst = c1.split('-')\n",
    "    c2_lst = c2.split('-')\n",
    "    c3_lst = c3.split('-')\n",
    "    \n",
    "    for i in range(0, len(c1_lst)):\n",
    "        if i + 1 < len(c1_lst):\n",
    "            pass\n",
    "        for j in range(i+1, len(c1_lst)):\n",
    "            binary_cs.append((c1_lst[i], c1_lst[j]))\n",
    "            binary_cs.append((c2_lst[i], c2_lst[j]))\n",
    "            binary_cs.append((c2_lst[i], c2_lst[j]))\n",
    "            \n",
    "#print len(binary_cs), len(C1), len(C2), len(C3)\n",
    "#print binary_cs      "
   ]
  },
  {
   "cell_type": "code",
   "execution_count": 16,
   "metadata": {
    "collapsed": true
   },
   "outputs": [],
   "source": [
    "import Queue\n",
    "def ac3():\n",
    "    q = Queue.Queue()\n",
    "    for arc in binary_cs:\n",
    "        #print arc\n",
    "        q.put(arc)\n",
    "    #print q.empty()\n",
    "    while not q.empty():\n",
    "        X_i, X_j = q.get()\n",
    "        if revise(X_i, X_j):\n",
    "            if len(D[X_i]) == 0:\n",
    "                return False\n",
    "            n_lst = neighbors(X_i, C)\n",
    "            n_lst.remove(X_j)\n",
    "            for X_k in n_lst:\n",
    "                q.put((X_k, X_i))\n",
    "    return True"
   ]
  },
  {
   "cell_type": "code",
   "execution_count": 17,
   "metadata": {
    "collapsed": false
   },
   "outputs": [
    {
     "data": {
      "text/plain": [
       "False"
      ]
     },
     "execution_count": 17,
     "metadata": {},
     "output_type": "execute_result"
    }
   ],
   "source": [
    "ac3()"
   ]
  },
  {
   "cell_type": "code",
   "execution_count": 70,
   "metadata": {
    "collapsed": false
   },
   "outputs": [
    {
     "data": {
      "text/plain": [
       "[1, 2]"
      ]
     },
     "execution_count": 70,
     "metadata": {},
     "output_type": "execute_result"
    }
   ],
   "source": [
    "D['A1']"
   ]
  },
  {
   "cell_type": "code",
   "execution_count": 19,
   "metadata": {
    "collapsed": true
   },
   "outputs": [],
   "source": [
    "def select_unsigned_variable(V, D, C):\n",
    "    '''The variable with fewest remaining values in its domain'''\n",
    "    selected_variable = ''\n",
    "    smallest_possible = 9\n",
    "    for v in V:\n",
    "        if len(D[v]) > 1 and len(D[v]) <= smallest_possible:\n",
    "            selected_variable = v\n",
    "            smallest_possible = len(D[v])\n",
    "    \n",
    "    return selected_variable"
   ]
  },
  {
   "cell_type": "code",
   "execution_count": 20,
   "metadata": {
    "collapsed": true
   },
   "outputs": [],
   "source": [
    "V = init_variables()\n",
    "D = init_domains(V)\n",
    "init_values(V, D, assigments)"
   ]
  },
  {
   "cell_type": "code",
   "execution_count": 21,
   "metadata": {
    "collapsed": false
   },
   "outputs": [
    {
     "data": {
      "text/plain": [
       "'I8'"
      ]
     },
     "execution_count": 21,
     "metadata": {},
     "output_type": "execute_result"
    }
   ],
   "source": [
    "select_unsigned_variable(V, D, C)"
   ]
  },
  {
   "cell_type": "code",
   "execution_count": 22,
   "metadata": {
    "collapsed": false
   },
   "outputs": [],
   "source": [
    "def is_complete(D):\n",
    "    for x in D:\n",
    "        if len(D[x]) != 1:\n",
    "            return False\n",
    "    return True"
   ]
  },
  {
   "cell_type": "code",
   "execution_count": 30,
   "metadata": {
    "collapsed": false
   },
   "outputs": [],
   "source": [
    "def is_consistent(var, d, D, C):\n",
    "    consistent = True\n",
    "    neighbors_lst = neighbors(var, C)\n",
    "    #print var , neighbors_lst, len(neighbors_lst)\n",
    "    for x in neighbors_lst:\n",
    "        #print D[x], d\n",
    "        if D[x] == [d]:\n",
    "            consistent = False\n",
    "            break\n",
    "    return consistent"
   ]
  },
  {
   "cell_type": "code",
   "execution_count": 24,
   "metadata": {
    "collapsed": false
   },
   "outputs": [],
   "source": [
    "def backtrack(assigment, V, D, C):\n",
    "    \n",
    "    if is_complete(D):\n",
    "        return assigment\n",
    "    var = select_unsigned_variable(V, D, C)\n",
    "    domain = D[var]\n",
    "    for  d in D[var]:\n",
    "        if is_consistent(var, d, D, C):\n",
    "            assigment[var] = [d]\n",
    "            D[var] = [d]\n",
    "            result = backtrack(assigment, V, D, C)\n",
    "            if result:\n",
    "                return result\n",
    "            del assigment[var]\n",
    "            D[var] = domain\n",
    "            \n",
    "    return {}"
   ]
  },
  {
   "cell_type": "code",
   "execution_count": 25,
   "metadata": {
    "collapsed": true
   },
   "outputs": [],
   "source": [
    "def backtracking_search(V, D, C):\n",
    "    return backtrack({}, V, D, C)"
   ]
  },
  {
   "cell_type": "code",
   "execution_count": 42,
   "metadata": {
    "collapsed": false
   },
   "outputs": [
    {
     "name": "stdout",
     "output_type": "stream",
     "text": [
      "Solved=17 in 682.12 seconds\n"
     ]
    }
   ],
   "source": [
    "sudokus_start = []\n",
    "with open('sudokus_start.txt','r') as _file:\n",
    "    for line in _file.readlines():\n",
    "        #print int(line)\n",
    "        sudokus_start.append(line.replace('\\r\\n', ''))\n",
    "        \n",
    "solved = 0\n",
    "start_time = time.time()\n",
    "elapsed = 0\n",
    "for start in sudokus_start:\n",
    "    V = init_variables()\n",
    "    D = init_domains(V)\n",
    "    init_values(V,D, start)\n",
    "    if backtracking_search(V, D, C):\n",
    "        solved += 1\n",
    "    elapsed = time.time() - start_time\n",
    "    if  elapsed > 360 + 5 :\n",
    "        break;\n",
    "        \n",
    "print 'Solved=%d in %.2f seconds' % (solved, elapsed) "
   ]
  },
  {
   "cell_type": "code",
   "execution_count": 47,
   "metadata": {
    "collapsed": false
   },
   "outputs": [],
   "source": [
    "V = init_variables()\n",
    "D = init_domains(V)\n",
    "init_values(V,D, assigments)\n",
    "assignment = backtracking_search(V, D, C)"
   ]
  },
  {
   "cell_type": "code",
   "execution_count": 49,
   "metadata": {
    "collapsed": false
   },
   "outputs": [
    {
     "data": {
      "text/plain": [
       "[[7],\n",
       " [9],\n",
       " [4],\n",
       " [5],\n",
       " [8],\n",
       " [2],\n",
       " [1],\n",
       " [3],\n",
       " [6],\n",
       " [2],\n",
       " [6],\n",
       " [8],\n",
       " [9],\n",
       " [3],\n",
       " [1],\n",
       " [7],\n",
       " [4],\n",
       " [5],\n",
       " [3],\n",
       " [1],\n",
       " [5],\n",
       " [4],\n",
       " [7],\n",
       " [6],\n",
       " [9],\n",
       " [8],\n",
       " [2],\n",
       " [6],\n",
       " [8],\n",
       " [9],\n",
       " [7],\n",
       " [1],\n",
       " [5],\n",
       " [3],\n",
       " [2],\n",
       " [4],\n",
       " [4],\n",
       " [3],\n",
       " [2],\n",
       " [8],\n",
       " [6],\n",
       " [9],\n",
       " [5],\n",
       " [7],\n",
       " [1],\n",
       " [1],\n",
       " [5],\n",
       " [7],\n",
       " [2],\n",
       " [4],\n",
       " [3],\n",
       " [8],\n",
       " [6],\n",
       " [9],\n",
       " [8],\n",
       " [2],\n",
       " [1],\n",
       " [6],\n",
       " [5],\n",
       " [7],\n",
       " [4],\n",
       " [9],\n",
       " [3],\n",
       " [9],\n",
       " [4],\n",
       " [3],\n",
       " [1],\n",
       " [2],\n",
       " [8],\n",
       " [6],\n",
       " [5],\n",
       " [7],\n",
       " [5],\n",
       " [7],\n",
       " [6],\n",
       " [3],\n",
       " [9],\n",
       " [4],\n",
       " [2],\n",
       " [1],\n",
       " [8]]"
      ]
     },
     "execution_count": 49,
     "metadata": {},
     "output_type": "execute_result"
    }
   ],
   "source": [
    "D.values()"
   ]
  },
  {
   "cell_type": "code",
   "execution_count": 39,
   "metadata": {
    "collapsed": false
   },
   "outputs": [
    {
     "data": {
      "text/plain": [
       "OrderedDict([('A1', [4]),\n",
       "             ('A2', [8]),\n",
       "             ('A3', [3]),\n",
       "             ('A4', [9]),\n",
       "             ('A5', [2]),\n",
       "             ('A6', [1]),\n",
       "             ('A7', [6]),\n",
       "             ('A8', [5]),\n",
       "             ('A9', [7]),\n",
       "             ('B1', [9]),\n",
       "             ('B2', [6]),\n",
       "             ('B3', [7]),\n",
       "             ('B4', [3]),\n",
       "             ('B5', [4]),\n",
       "             ('B6', [5]),\n",
       "             ('B7', [8]),\n",
       "             ('B8', [2]),\n",
       "             ('B9', [1]),\n",
       "             ('C1', [2]),\n",
       "             ('C2', [5]),\n",
       "             ('C3', [1]),\n",
       "             ('C4', [8]),\n",
       "             ('C5', [7]),\n",
       "             ('C6', [6]),\n",
       "             ('C7', [4]),\n",
       "             ('C8', [9]),\n",
       "             ('C9', [3]),\n",
       "             ('D1', [5]),\n",
       "             ('D2', [4]),\n",
       "             ('D3', [8]),\n",
       "             ('D4', [1]),\n",
       "             ('D5', [3]),\n",
       "             ('D6', [2]),\n",
       "             ('D7', [9]),\n",
       "             ('D8', [7]),\n",
       "             ('D9', [6]),\n",
       "             ('E1', [7]),\n",
       "             ('E2', [2]),\n",
       "             ('E3', [9]),\n",
       "             ('E4', [5]),\n",
       "             ('E5', [6]),\n",
       "             ('E6', [4]),\n",
       "             ('E7', [1]),\n",
       "             ('E8', [3]),\n",
       "             ('E9', [8]),\n",
       "             ('F1', [1]),\n",
       "             ('F2', [3]),\n",
       "             ('F3', [6]),\n",
       "             ('F4', [7]),\n",
       "             ('F5', [9]),\n",
       "             ('F6', [8]),\n",
       "             ('F7', [2]),\n",
       "             ('F8', [4]),\n",
       "             ('F9', [5]),\n",
       "             ('G1', [3]),\n",
       "             ('G2', [7]),\n",
       "             ('G3', [2]),\n",
       "             ('G4', [6]),\n",
       "             ('G5', [8]),\n",
       "             ('G6', [9]),\n",
       "             ('G7', [5]),\n",
       "             ('G8', [1]),\n",
       "             ('G9', [4]),\n",
       "             ('H1', [8]),\n",
       "             ('H2', [1]),\n",
       "             ('H3', [4]),\n",
       "             ('H4', [2]),\n",
       "             ('H5', [5]),\n",
       "             ('H6', [3]),\n",
       "             ('H7', [7]),\n",
       "             ('H8', [6]),\n",
       "             ('H9', [9]),\n",
       "             ('I1', [6]),\n",
       "             ('I2', [9]),\n",
       "             ('I3', [5]),\n",
       "             ('I4', [4]),\n",
       "             ('I5', [1]),\n",
       "             ('I6', [7]),\n",
       "             ('I7', [3]),\n",
       "             ('I8', [8]),\n",
       "             ('I9', [2])])"
      ]
     },
     "execution_count": 39,
     "metadata": {},
     "output_type": "execute_result"
    }
   ],
   "source": [
    "D"
   ]
  },
  {
   "cell_type": "code",
   "execution_count": null,
   "metadata": {
    "collapsed": true
   },
   "outputs": [],
   "source": [
    "if __name__ == '__main__':\n",
    "    print sys.argv[1], sys.argv[2]\n",
    "    \n",
    "V = init_variables()\n",
    "D = init_domains(V)\n",
    "init_values(V,D, assigments)\n",
    "backtracking_search(V, D, C)"
   ]
  }
 ],
 "metadata": {
  "kernelspec": {
   "display_name": "Python 2",
   "language": "python",
   "name": "python2"
  },
  "language_info": {
   "codemirror_mode": {
    "name": "ipython",
    "version": 2
   },
   "file_extension": ".py",
   "mimetype": "text/x-python",
   "name": "python",
   "nbconvert_exporter": "python",
   "pygments_lexer": "ipython2",
   "version": "2.7.11"
  }
 },
 "nbformat": 4,
 "nbformat_minor": 2
}
